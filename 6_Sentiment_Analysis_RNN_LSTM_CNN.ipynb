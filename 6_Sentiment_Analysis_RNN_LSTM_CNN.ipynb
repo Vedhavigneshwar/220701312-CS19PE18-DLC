{
 "cells": [
  {
   "cell_type": "code",
   "execution_count": 1,
   "id": "0c8c5a0f",
   "metadata": {},
   "outputs": [],
   "source": [
    "import numpy as np\n",
    "import tensorflow as tf\n",
    "from tensorflow import keras\n",
    "import tensorflow_datasets as tfds\n",
    "\n",
    "if not tf.__version__.startswith('2'):\n",
    "    raise ValueError('This code requires TensorFlow V2.x')"
   ]
  },
  {
   "cell_type": "code",
   "execution_count": 2,
   "id": "10b0fc43",
   "metadata": {},
   "outputs": [
    {
     "name": "stdout",
     "output_type": "stream",
     "text": [
      "Downloading and preparing dataset Unknown size (download: Unknown size, generated: Unknown size, total: Unknown size) to C:\\Users\\rsshi\\tensorflow_datasets\\imdb_reviews\\plain_text\\1.0.0...\n"
     ]
    },
    {
     "data": {
      "application/vnd.jupyter.widget-view+json": {
       "model_id": "22ec49cb121f49e1b714e0b50f94d530",
       "version_major": 2,
       "version_minor": 0
      },
      "text/plain": [
       "Dl Completed...: 0 url [00:00, ? url/s]"
      ]
     },
     "metadata": {},
     "output_type": "display_data"
    },
    {
     "data": {
      "application/vnd.jupyter.widget-view+json": {
       "model_id": "2113fdfa05d14c35a14e7b95c143bea1",
       "version_major": 2,
       "version_minor": 0
      },
      "text/plain": [
       "Dl Size...: 0 MiB [00:00, ? MiB/s]"
      ]
     },
     "metadata": {},
     "output_type": "display_data"
    },
    {
     "data": {
      "application/vnd.jupyter.widget-view+json": {
       "model_id": "",
       "version_major": 2,
       "version_minor": 0
      },
      "text/plain": [
       "Generating splits...:   0%|          | 0/3 [00:00<?, ? splits/s]"
      ]
     },
     "metadata": {},
     "output_type": "display_data"
    },
    {
     "data": {
      "application/vnd.jupyter.widget-view+json": {
       "model_id": "",
       "version_major": 2,
       "version_minor": 0
      },
      "text/plain": [
       "Generating train examples...: 0 examples [00:00, ? examples/s]"
      ]
     },
     "metadata": {},
     "output_type": "display_data"
    },
    {
     "data": {
      "application/vnd.jupyter.widget-view+json": {
       "model_id": "",
       "version_major": 2,
       "version_minor": 0
      },
      "text/plain": [
       "Shuffling C:\\Users\\rsshi\\tensorflow_datasets\\imdb_reviews\\plain_text\\1.0.0.incompleteVDRQQA\\imdb_reviews-train…"
      ]
     },
     "metadata": {},
     "output_type": "display_data"
    },
    {
     "data": {
      "application/vnd.jupyter.widget-view+json": {
       "model_id": "",
       "version_major": 2,
       "version_minor": 0
      },
      "text/plain": [
       "Generating test examples...: 0 examples [00:00, ? examples/s]"
      ]
     },
     "metadata": {},
     "output_type": "display_data"
    },
    {
     "data": {
      "application/vnd.jupyter.widget-view+json": {
       "model_id": "",
       "version_major": 2,
       "version_minor": 0
      },
      "text/plain": [
       "Shuffling C:\\Users\\rsshi\\tensorflow_datasets\\imdb_reviews\\plain_text\\1.0.0.incompleteVDRQQA\\imdb_reviews-test.…"
      ]
     },
     "metadata": {},
     "output_type": "display_data"
    },
    {
     "data": {
      "application/vnd.jupyter.widget-view+json": {
       "model_id": "",
       "version_major": 2,
       "version_minor": 0
      },
      "text/plain": [
       "Generating unsupervised examples...: 0 examples [00:00, ? examples/s]"
      ]
     },
     "metadata": {},
     "output_type": "display_data"
    },
    {
     "data": {
      "application/vnd.jupyter.widget-view+json": {
       "model_id": "",
       "version_major": 2,
       "version_minor": 0
      },
      "text/plain": [
       "Shuffling C:\\Users\\rsshi\\tensorflow_datasets\\imdb_reviews\\plain_text\\1.0.0.incompleteVDRQQA\\imdb_reviews-unsup…"
      ]
     },
     "metadata": {},
     "output_type": "display_data"
    },
    {
     "name": "stdout",
     "output_type": "stream",
     "text": [
      "Dataset imdb_reviews downloaded and prepared to C:\\Users\\rsshi\\tensorflow_datasets\\imdb_reviews\\plain_text\\1.0.0. Subsequent calls will reuse this data.\n"
     ]
    }
   ],
   "source": [
    "(train_data, test_data), info = tfds.load(\n",
    "    'imdb_reviews',\n",
    "    split=[tfds.Split.TRAIN, tfds.Split.TEST],\n",
    "    as_supervised=True,\n",
    "    with_info=True\n",
    ")"
   ]
  },
  {
   "cell_type": "code",
   "execution_count": 3,
   "id": "f3a7bba4",
   "metadata": {},
   "outputs": [],
   "source": [
    "(train_data, test_data), info = tfds.load(\n",
    "    'imdb_reviews',\n",
    "    split=[tfds.Split.TRAIN, tfds.Split.TEST],\n",
    "    as_supervised=True,\n",
    "    with_info=True\n",
    ")\n",
    "\n",
    "# Tokenize and pad the reviews\n",
    "tokenizer = keras.preprocessing.text.Tokenizer(num_words=10000, oov_token='<OOV>')\n",
    "train_sentences, train_labels = zip(*[(sent.numpy().decode('utf8'), label.numpy()) for sent, label in train_data])\n",
    "tokenizer.fit_on_texts(train_sentences)\n",
    "train_sequences = tokenizer.texts_to_sequences(train_sentences)\n",
    "train_padded = keras.preprocessing.sequence.pad_sequences(train_sequences, maxlen=100, padding='post', truncating='post')\n",
    "\n",
    "test_sentences, test_labels = zip(*[(sent.numpy().decode('utf8'), label.numpy()) for sent, label in test_data])\n",
    "test_sequences = tokenizer.texts_to_sequences(test_sentences)\n",
    "test_padded = keras.preprocessing.sequence.pad_sequences(test_sequences, maxlen=100, padding='post', truncating='post')\n",
    "\n",
    "train_labels = np.array(train_labels)\n",
    "test_labels = np.array(test_labels)"
   ]
  },
  {
   "cell_type": "code",
   "execution_count": 4,
   "id": "65f1742b",
   "metadata": {},
   "outputs": [],
   "source": [
    "##MODEL 1"
   ]
  },
  {
   "cell_type": "code",
   "execution_count": 5,
   "id": "e9414c5e",
   "metadata": {},
   "outputs": [],
   "source": [
    "model = keras.models.Sequential([\n",
    "    keras.layers.Embedding(10000, 64),\n",
    "    keras.layers.SimpleRNN(64),\n",
    "    keras.layers.Dense(1, activation='sigmoid')\n",
    "])"
   ]
  },
  {
   "cell_type": "code",
   "execution_count": 6,
   "id": "649f045c",
   "metadata": {},
   "outputs": [],
   "source": [
    "model.compile(loss=\"binary_crossentropy\", optimizer=\"adam\", metrics=[\"accuracy\"])"
   ]
  },
  {
   "cell_type": "code",
   "execution_count": 7,
   "id": "e873b65c",
   "metadata": {},
   "outputs": [
    {
     "name": "stdout",
     "output_type": "stream",
     "text": [
      "Epoch 1/10\n",
      "782/782 [==============================] - 41s 49ms/step - loss: 0.6924 - accuracy: 0.5217 - val_loss: 0.6975 - val_accuracy: 0.5062\n",
      "Epoch 2/10\n",
      "782/782 [==============================] - 38s 49ms/step - loss: 0.6511 - accuracy: 0.6178 - val_loss: 0.6977 - val_accuracy: 0.5324\n",
      "Epoch 3/10\n",
      "782/782 [==============================] - 38s 49ms/step - loss: 0.4966 - accuracy: 0.7596 - val_loss: 0.7377 - val_accuracy: 0.5784\n",
      "Epoch 4/10\n",
      "782/782 [==============================] - 37s 48ms/step - loss: 0.3695 - accuracy: 0.8299 - val_loss: 0.9127 - val_accuracy: 0.5508\n",
      "Epoch 5/10\n",
      "782/782 [==============================] - 36s 46ms/step - loss: 0.2471 - accuracy: 0.8952 - val_loss: 1.1579 - val_accuracy: 0.5109\n",
      "Epoch 6/10\n",
      "782/782 [==============================] - 38s 48ms/step - loss: 0.2218 - accuracy: 0.9019 - val_loss: 1.1100 - val_accuracy: 0.5210\n",
      "Epoch 7/10\n",
      "782/782 [==============================] - 37s 47ms/step - loss: 0.1725 - accuracy: 0.9222 - val_loss: 1.4632 - val_accuracy: 0.5346\n",
      "Epoch 8/10\n",
      "782/782 [==============================] - 35s 45ms/step - loss: 0.0948 - accuracy: 0.9572 - val_loss: 1.8015 - val_accuracy: 0.5396\n",
      "Epoch 9/10\n",
      "782/782 [==============================] - 37s 47ms/step - loss: 0.0763 - accuracy: 0.9636 - val_loss: 1.9271 - val_accuracy: 0.5375\n",
      "Epoch 10/10\n",
      "782/782 [==============================] - 38s 48ms/step - loss: 0.0656 - accuracy: 0.9693 - val_loss: 2.2567 - val_accuracy: 0.5259\n"
     ]
    }
   ],
   "source": [
    "history = model.fit(train_padded, train_labels, epochs=10, validation_data=(test_padded, test_labels))"
   ]
  },
  {
   "cell_type": "code",
   "execution_count": 8,
   "id": "fb4d0f37",
   "metadata": {},
   "outputs": [],
   "source": [
    "##MODEL 2 - RNN with Improvements "
   ]
  },
  {
   "cell_type": "code",
   "execution_count": 9,
   "id": "23d97bf6",
   "metadata": {},
   "outputs": [
    {
     "name": "stdout",
     "output_type": "stream",
     "text": [
      "Epoch 1/10\n",
      "782/782 [==============================] - 42s 51ms/step - loss: 0.7155 - accuracy: 0.5222 - val_loss: 0.7028 - val_accuracy: 0.5506\n",
      "Epoch 2/10\n",
      "782/782 [==============================] - 39s 49ms/step - loss: 0.6847 - accuracy: 0.5922 - val_loss: 0.5953 - val_accuracy: 0.7187\n",
      "Epoch 3/10\n",
      "782/782 [==============================] - 38s 49ms/step - loss: 0.5735 - accuracy: 0.7211 - val_loss: 0.6888 - val_accuracy: 0.5968\n",
      "Epoch 4/10\n",
      "782/782 [==============================] - 38s 49ms/step - loss: 0.5611 - accuracy: 0.7216 - val_loss: 0.7241 - val_accuracy: 0.5603\n",
      "Epoch 5/10\n",
      "782/782 [==============================] - 38s 48ms/step - loss: 0.4288 - accuracy: 0.8188 - val_loss: 0.5826 - val_accuracy: 0.7668\n",
      "Epoch 6/10\n",
      "782/782 [==============================] - 38s 48ms/step - loss: 0.3252 - accuracy: 0.8741 - val_loss: 0.6441 - val_accuracy: 0.7350\n",
      "Epoch 7/10\n",
      "782/782 [==============================] - 38s 48ms/step - loss: 0.2612 - accuracy: 0.9043 - val_loss: 0.6268 - val_accuracy: 0.7716\n",
      "Epoch 8/10\n",
      "782/782 [==============================] - 38s 48ms/step - loss: 0.2139 - accuracy: 0.9245 - val_loss: 0.6629 - val_accuracy: 0.7399\n"
     ]
    }
   ],
   "source": [
    "model = keras.models.Sequential([\n",
    "    keras.layers.Embedding(10000, 32), # Reduced embedding dimension\n",
    "    keras.layers.Dropout(0.5), # Added dropout\n",
    "    keras.layers.SimpleRNN(32, kernel_regularizer=keras.regularizers.l2(0.001)), # L2 regularization\n",
    "    keras.layers.Dense(1, activation='sigmoid')\n",
    "])\n",
    "\n",
    "model.compile(loss=\"binary_crossentropy\", optimizer=\"adam\", metrics=[\"accuracy\"])\n",
    "\n",
    "# Adding early stopping callback\n",
    "early_stop = keras.callbacks.EarlyStopping(monitor='val_loss', patience=3)\n",
    "\n",
    "history = model.fit(train_padded, train_labels, epochs=10, validation_data=(test_padded, test_labels), callbacks=[early_stop])"
   ]
  },
  {
   "cell_type": "code",
   "execution_count": 10,
   "id": "96865bae",
   "metadata": {},
   "outputs": [
    {
     "data": {
      "text/plain": [
       "<keras.layers.core.embedding.Embedding at 0x1ef0f4770c8>"
      ]
     },
     "execution_count": 10,
     "metadata": {},
     "output_type": "execute_result"
    }
   ],
   "source": [
    "keras.layers.Embedding(10000, 32) # Reduced from 64 to 32 "
   ]
  },
  {
   "cell_type": "code",
   "execution_count": 11,
   "id": "ea76e371",
   "metadata": {},
   "outputs": [
    {
     "data": {
      "text/plain": [
       "<keras.layers.regularization.dropout.Dropout at 0x1ef11cfef48>"
      ]
     },
     "execution_count": 11,
     "metadata": {},
     "output_type": "execute_result"
    }
   ],
   "source": [
    "keras.layers.Dropout(0.5) # 50% dropout rate "
   ]
  },
  {
   "cell_type": "code",
   "execution_count": 12,
   "id": "b02c50d4",
   "metadata": {},
   "outputs": [
    {
     "data": {
      "text/plain": [
       "<keras.layers.rnn.simple_rnn.SimpleRNN at 0x1ef1332bdc8>"
      ]
     },
     "execution_count": 12,
     "metadata": {},
     "output_type": "execute_result"
    }
   ],
   "source": [
    "keras.layers.SimpleRNN(32, kernel_regularizer=keras.regularizers.l2(0.001)) #regularization on rnn layer L2"
   ]
  },
  {
   "cell_type": "code",
   "execution_count": 13,
   "id": "8fa786b4",
   "metadata": {},
   "outputs": [],
   "source": [
    "early_stop = keras.callbacks.EarlyStopping(monitor='val_loss', patience=3)"
   ]
  },
  {
   "cell_type": "code",
   "execution_count": null,
   "id": "65f77ff2",
   "metadata": {},
   "outputs": [],
   "source": [
    "##MODEL 3 - LSTM"
   ]
  },
  {
   "cell_type": "code",
   "execution_count": 14,
   "id": "26fcadb9",
   "metadata": {},
   "outputs": [
    {
     "name": "stdout",
     "output_type": "stream",
     "text": [
      "Epoch 1/10\n",
      "782/782 [==============================] - 134s 157ms/step - loss: 0.5257 - accuracy: 0.7311 - val_loss: 0.4254 - val_accuracy: 0.8096\n",
      "Epoch 2/10\n",
      "782/782 [==============================] - 121s 155ms/step - loss: 0.3464 - accuracy: 0.8628 - val_loss: 0.4365 - val_accuracy: 0.8151\n",
      "Epoch 3/10\n",
      "782/782 [==============================] - 122s 156ms/step - loss: 0.2962 - accuracy: 0.8858 - val_loss: 0.5029 - val_accuracy: 0.7993\n",
      "Epoch 4/10\n",
      "782/782 [==============================] - 122s 156ms/step - loss: 0.2671 - accuracy: 0.9003 - val_loss: 0.4984 - val_accuracy: 0.7865\n"
     ]
    }
   ],
   "source": [
    "from keras.layers import Bidirectional, LSTM\n",
    "\n",
    "model = keras.models.Sequential([\n",
    "    keras.layers.Embedding(10000, 32),\n",
    "    Bidirectional(LSTM(32, dropout=0.5, recurrent_dropout=0.5, kernel_regularizer=keras.regularizers.l2(0.001))),\n",
    "    keras.layers.Dense(1, activation='sigmoid')\n",
    "])\n",
    "\n",
    "model.compile(loss=\"binary_crossentropy\", optimizer=keras.optimizers.Adam(learning_rate=0.001), metrics=[\"accuracy\"])\n",
    "\n",
    "early_stop = keras.callbacks.EarlyStopping(monitor='val_loss', patience=3)\n",
    "\n",
    "history = model.fit(train_padded, train_labels, epochs=10, validation_data=(test_padded, test_labels), callbacks=[early_stop])"
   ]
  },
  {
   "cell_type": "code",
   "execution_count": null,
   "id": "615f4ee1",
   "metadata": {},
   "outputs": [],
   "source": [
    "##MODEL 4 - CNN "
   ]
  },
  {
   "cell_type": "code",
   "execution_count": 15,
   "id": "e7bda533",
   "metadata": {},
   "outputs": [
    {
     "name": "stdout",
     "output_type": "stream",
     "text": [
      "Epoch 1/10\n",
      "782/782 [==============================] - 84s 81ms/step - loss: 0.5797 - accuracy: 0.6935 - val_loss: 0.4524 - val_accuracy: 0.7874\n",
      "Epoch 2/10\n",
      "782/782 [==============================] - 59s 75ms/step - loss: 0.3683 - accuracy: 0.8416 - val_loss: 0.4262 - val_accuracy: 0.8029\n",
      "Epoch 3/10\n",
      "782/782 [==============================] - 59s 76ms/step - loss: 0.3125 - accuracy: 0.8762 - val_loss: 0.4313 - val_accuracy: 0.8107\n",
      "Epoch 4/10\n",
      "782/782 [==============================] - 59s 75ms/step - loss: 0.2768 - accuracy: 0.8925 - val_loss: 0.4493 - val_accuracy: 0.7958\n",
      "Epoch 5/10\n",
      "782/782 [==============================] - 58s 74ms/step - loss: 0.2412 - accuracy: 0.9103 - val_loss: 0.4926 - val_accuracy: 0.7992\n"
     ]
    }
   ],
   "source": [
    "from keras.layers import Conv1D, MaxPooling1D\n",
    "\n",
    "model = keras.models.Sequential([\n",
    "    keras.layers.Embedding(10000, 32),\n",
    "    Conv1D(32, 7, activation='relu'),\n",
    "    MaxPooling1D(5),\n",
    "    Bidirectional(LSTM(32, return_sequences=True, dropout=0.5, recurrent_dropout=0.5, kernel_regularizer=keras.regularizers.l2(0.001))),\n",
    "    Bidirectional(LSTM(32, dropout=0.5, recurrent_dropout=0.5, kernel_regularizer=keras.regularizers.l2(0.001))),\n",
    "    keras.layers.Dense(1, activation='sigmoid')\n",
    "])\n",
    "\n",
    "model.compile(loss=\"binary_crossentropy\", optimizer=keras.optimizers.RMSprop(learning_rate=0.001), metrics=[\"accuracy\"])\n",
    "\n",
    "early_stop = keras.callbacks.EarlyStopping(monitor='val_loss', patience=3)\n",
    "checkpoint = keras.callbacks.ModelCheckpoint(\"best_model.h5\", save_best_only=True)\n",
    "\n",
    "history = model.fit(train_padded, train_labels, epochs=10, validation_data=(test_padded, test_labels), callbacks=[early_stop, checkpoint])"
   ]
  }
 ],
 "metadata": {
  "kernelspec": {
   "display_name": "Python 3 (ipykernel)",
   "language": "python",
   "name": "python3"
  },
  "language_info": {
   "codemirror_mode": {
    "name": "ipython",
    "version": 3
   },
   "file_extension": ".py",
   "mimetype": "text/x-python",
   "name": "python",
   "nbconvert_exporter": "python",
   "pygments_lexer": "ipython3",
   "version": "3.7.16"
  }
 },
 "nbformat": 4,
 "nbformat_minor": 5
}
